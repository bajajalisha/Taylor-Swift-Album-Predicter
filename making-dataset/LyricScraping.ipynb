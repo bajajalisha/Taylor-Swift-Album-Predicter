{
 "cells": [
  {
   "cell_type": "markdown",
   "metadata": {},
   "source": [
    "# CharityScore aims to provide a measure of efficency on expenditures of Canadian charities\n",
    "\n",
    "### This program is divided into three parts: Data Collection, Statistical Calculation, and Scoring Algorithm.\n",
    "\n",
    "### The final product is a dataframe consisting of a letter grade for each charity with available information. I hope to soon produce a web application to allow users to search for individual charities and view their scores.\n",
    "\n",
    "### Written by: Muhammad Ibrahim\n",
    "#### Data Credits: charitydata.ca (sourced from CRA T3010 returns)\n",
    "\n",
    "##### Disclaimer: This is an attempt to create transparency in the non-profit sector (something I believe is very important) and showcase my programming ability.  A low score is not intended to mean that the charity is conducting itself illegitamtely or poorly. All data is reported as is from charitydata.ca and may not represent the latest information.\n"
   ]
  },
  {
   "cell_type": "markdown",
   "metadata": {},
   "source": [
    "## Part 1: Data Collection\n",
    "#### Tools: Selenium Webdriver and Pandas"
   ]
  },
  {
   "cell_type": "code",
   "execution_count": 2,
   "metadata": {},
   "outputs": [],
   "source": [
    "import pandas as pd\n",
    "import numpy as np\n",
    "import seaborn\n",
    "import requests\n",
    "import re\n",
    "import os"
   ]
  },
  {
   "cell_type": "code",
   "execution_count": 7,
   "metadata": {},
   "outputs": [],
   "source": [
    "ds = pd.read_csv(\"taylor_swift_lyrics.csv\", encoding = \"latin1\")  \n"
   ]
  },
  {
   "cell_type": "markdown",
   "metadata": {},
   "source": [
    "Look at first few rows of data"
   ]
  },
  {
   "cell_type": "code",
   "execution_count": 8,
   "metadata": {},
   "outputs": [
    {
     "name": "stdout",
     "output_type": "stream",
     "text": [
      "         artist         album track_title  track_n  \\\n",
      "0  Taylor Swift  Taylor Swift  Tim McGraw        1   \n",
      "1  Taylor Swift  Taylor Swift  Tim McGraw        1   \n",
      "2  Taylor Swift  Taylor Swift  Tim McGraw        1   \n",
      "3  Taylor Swift  Taylor Swift  Tim McGraw        1   \n",
      "4  Taylor Swift  Taylor Swift  Tim McGraw        1   \n",
      "\n",
      "                                         lyric  line  year  \n",
      "0          He said the way my blue eyes shined     1  2006  \n",
      "1  Put those Georgia stars to shame that night     2  2006  \n",
      "2                       I said, \"That's a lie\"     3  2006  \n",
      "3                  Just a boy in a Chevy truck     4  2006  \n",
      "4         That had a tendency of gettin' stuck     5  2006  \n"
     ]
    }
   ],
   "source": [
    "print(ds.head())"
   ]
  },
  {
   "cell_type": "code",
   "execution_count": 3,
   "metadata": {},
   "outputs": [
    {
     "name": "stdout",
     "output_type": "stream",
     "text": [
      "Requirement already satisfied: bs4 in c:\\users\\alisha\\anaconda3\\envs\\myenv\\lib\\site-packages (0.0.1)\n",
      "Requirement already satisfied: beautifulsoup4 in c:\\users\\alisha\\anaconda3\\envs\\myenv\\lib\\site-packages (from bs4) (4.10.0)\n",
      "Requirement already satisfied: soupsieve>1.2 in c:\\users\\alisha\\anaconda3\\envs\\myenv\\lib\\site-packages (from beautifulsoup4->bs4) (2.3.1)\n",
      "Note: you may need to restart the kernel to use updated packages.\n"
     ]
    }
   ],
   "source": [
    "pip install bs4"
   ]
  },
  {
   "cell_type": "code",
   "execution_count": 5,
   "metadata": {},
   "outputs": [
    {
     "data": {
      "text/html": [
       "<div>\n",
       "<style scoped>\n",
       "    .dataframe tbody tr th:only-of-type {\n",
       "        vertical-align: middle;\n",
       "    }\n",
       "\n",
       "    .dataframe tbody tr th {\n",
       "        vertical-align: top;\n",
       "    }\n",
       "\n",
       "    .dataframe thead th {\n",
       "        text-align: right;\n",
       "    }\n",
       "</style>\n",
       "<table border=\"1\" class=\"dataframe\">\n",
       "  <thead>\n",
       "    <tr style=\"text-align: right;\">\n",
       "      <th></th>\n",
       "      <th>Artist</th>\n",
       "      <th>Album</th>\n",
       "      <th>TrackTitle</th>\n",
       "      <th>Trank N</th>\n",
       "      <th>Lyric</th>\n",
       "      <th>Year</th>\n",
       "    </tr>\n",
       "  </thead>\n",
       "  <tbody>\n",
       "  </tbody>\n",
       "</table>\n",
       "</div>"
      ],
      "text/plain": [
       "Empty DataFrame\n",
       "Columns: [Artist, Album, TrackTitle, Trank N, Lyric, Year]\n",
       "Index: []"
      ]
     },
     "metadata": {},
     "output_type": "display_data"
    },
    {
     "name": "stderr",
     "output_type": "stream",
     "text": [
      "C:\\Users\\Alisha\\anaconda3\\envs\\myenv\\lib\\site-packages\\pandas\\core\\dtypes\\cast.py:881: VisibleDeprecationWarning: Creating an ndarray from ragged nested sequences (which is a list-or-tuple of lists-or-tuples-or ndarrays with different lengths or shapes) is deprecated. If you meant to do this, you must specify 'dtype=object' when creating the ndarray.\n",
      "  element = np.asarray(element)\n",
      "C:\\Users\\Alisha\\anaconda3\\envs\\myenv\\lib\\site-packages\\numpy\\core\\fromnumeric.py:3162: VisibleDeprecationWarning: Creating an ndarray from ragged nested sequences (which is a list-or-tuple of lists-or-tuples-or ndarrays with different lengths or shapes) is deprecated. If you meant to do this, you must specify 'dtype=object' when creating the ndarray.\n",
      "  return asarray(a).ndim\n"
     ]
    }
   ],
   "source": [
    "from bs4 import BeautifulSoup\n",
    "\n",
    "#albums and their track titles\n",
    "\n",
    "lover = [\"iforgotthatyouexisted\",\"cruelsummer\",\"lover\",\"theman\",\"thearcher\",\n",
    "               \"ithinkheknows\",\"missamericana&theheartbreakprince\",\"paperrings\",\n",
    "               \"corneliastreet\",\"deathbyathousandcuts\",\"londonboy\",\"soonyoullgetbetter\",\n",
    "               \"falsegods\",\"youneedtocalmdownn\",\"afterglow\",\"me\",\"itsnicetohaveafriend\",\n",
    "               \"daylight\"]\n",
    "\n",
    "folklore = [\"the1\",\"cardigan\",\"thelastgreatamericandynasty\",\"exile\",\n",
    "                  \"mytearsricochet\",\"mirrorball\",\"seven\",\"august\",\"thisismetrying\"\n",
    "                  \"illicitaffairs\",\"invisiblestring\",\"madwoman\",\"epiphany\",\"betty\",\n",
    "                  \"peace\",\"hoax\"]\n",
    "\n",
    "evermore = [\"willow\",\"champagneproblems\",\"goldrush\",\"tisthedamnseason\",\n",
    "                  \"tolerateit\",\"nobodynocrime\",\"happiness\",\"dorothea\",\"coneyisland\",\n",
    "                  \"ivy\",\"cowboylikeme\",\"longstoryshoort\",\"marjorie\",\"closure\",\n",
    "                  \"everymore\"]\n",
    "\n",
    "album_list = [lover, folklore, evermore]\n",
    "\n",
    "\n",
    "#make data frame for lyrics\n",
    "\n",
    "lyrics_dict = {\"Artist\":[],\"Album\":[],\"TrackTitle\":[],\"Trank N\":[],\"Lyric\":[],\n",
    "               \"Year\":[]}\n",
    "\n",
    "lyrics_df = pd.DataFrame(lyrics_dict)\n",
    "\n",
    "display(lyrics_df)\n",
    "\n",
    "def year(album):   \n",
    "    if album == lover:\n",
    "        return 2019\n",
    "    elif album == folklore:\n",
    "        return 2020\n",
    "    elif album == evermore:\n",
    "        return 2020\n",
    "\n",
    "for album in album_list:\n",
    "    for songname in album:\n",
    "\n",
    "        webpage = requests.get(\"https://www.azlyrics.com/lyrics/taylorswift/\"+ songname +\".html\").content\n",
    "        soup = BeautifulSoup(webpage,\"html.parser\")\n",
    "        soup_str = str(soup)\n",
    "        new_soup = soup_str.splitlines()\n",
    "\n",
    "        for lyric in new_soup:\n",
    "\n",
    "            track_n = album.index(songname)\n",
    "            lyrics_df.loc[(lyrics_df.index)] = [\"Taylor Swift\", album, songname, track_n, lyric, year(album)]         \n",
    "\n",
    "print(lyrics_df)\n"
   ]
  },
  {
   "cell_type": "code",
   "execution_count": null,
   "metadata": {},
   "outputs": [],
   "source": []
  },
  {
   "cell_type": "markdown",
   "metadata": {},
   "source": []
  },
  {
   "cell_type": "code",
   "execution_count": null,
   "metadata": {},
   "outputs": [],
   "source": []
  }
 ],
 "metadata": {
  "interpreter": {
   "hash": "0e9dd0c7c8c199a2e324fea7fafdce3ab48be3dfc63e0280f08eb3c5e113f861"
  },
  "kernelspec": {
   "display_name": "Python 3.8.5 64-bit ('base': conda)",
   "language": "python",
   "name": "python3"
  },
  "language_info": {
   "codemirror_mode": {
    "name": "ipython",
    "version": 3
   },
   "file_extension": ".py",
   "mimetype": "text/x-python",
   "name": "python",
   "nbconvert_exporter": "python",
   "pygments_lexer": "ipython3",
   "version": "3.7.11"
  },
  "orig_nbformat": 4
 },
 "nbformat": 4,
 "nbformat_minor": 2
}
